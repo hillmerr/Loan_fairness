{
 "cells": [
  {
   "cell_type": "code",
   "execution_count": 2,
   "metadata": {},
   "outputs": [],
   "source": [
    "import pandas as pd\n",
    "import numpy as np \n",
    "import matplotlib.pyplot as plt\n",
    "import glob"
   ]
  },
  {
   "cell_type": "code",
   "execution_count": 4,
   "metadata": {},
   "outputs": [
    {
     "name": "stdout",
     "output_type": "stream",
     "text": [
      "Data successfully loaded in chunks.\n"
     ]
    }
   ],
   "source": [
    "path = 'data/coded_data/*.csv'\n",
    "\n",
    "frames = []\n",
    "\n",
    "# Process each file in chunks\n",
    "for fname in glob.glob(path):\n",
    "    chunks = pd.read_csv(fname, chunksize=500000)  \n",
    "    for chunk in chunks:\n",
    "        frames.append(chunk)\n",
    "\n",
    "all_data = pd.concat(frames)\n",
    "\n",
    "print(\"Data successfully loaded in chunks.\")\n",
    "\n"
   ]
  },
  {
   "cell_type": "code",
   "execution_count": null,
   "metadata": {},
   "outputs": [],
   "source": []
  }
 ],
 "metadata": {
  "kernelspec": {
   "display_name": "Python 3",
   "language": "python",
   "name": "python3"
  },
  "language_info": {
   "codemirror_mode": {
    "name": "ipython",
    "version": 3
   },
   "file_extension": ".py",
   "mimetype": "text/x-python",
   "name": "python",
   "nbconvert_exporter": "python",
   "pygments_lexer": "ipython3",
   "version": "3.10.4"
  }
 },
 "nbformat": 4,
 "nbformat_minor": 2
}
