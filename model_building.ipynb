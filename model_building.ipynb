{
 "cells": [
  {
   "cell_type": "code",
   "execution_count": 1,
   "metadata": {},
   "outputs": [],
   "source": [
    "import pandas as pd\n",
    "import numpy as np \n",
    "import matplotlib.pyplot as plt\n",
    "import glob\n",
    "\n",
    "from sklearn.linear_model import LogisticRegression\n",
    "from sklearn.datasets import make_classification\n",
    "from sklearn.model_selection import train_test_split\n",
    "from sklearn.metrics import classification_report"
   ]
  },
  {
   "cell_type": "code",
   "execution_count": 2,
   "metadata": {},
   "outputs": [
    {
     "name": "stdout",
     "output_type": "stream",
     "text": [
      "Data successfully loaded in chunks.\n"
     ]
    }
   ],
   "source": [
    "path = 'data/coded_data/*.csv'\n",
    "\n",
    "frames = []\n",
    "\n",
    "# Process each file in chunks\n",
    "for fname in glob.glob(path):\n",
    "    chunks = pd.read_csv(fname, chunksize=500000)  \n",
    "    for chunk in chunks:\n",
    "        frames.append(chunk)\n",
    "\n",
    "all_data = pd.concat(frames)\n",
    "\n",
    "print(\"Data successfully loaded in chunks.\")\n",
    "\n"
   ]
  },
  {
   "cell_type": "code",
   "execution_count": 3,
   "metadata": {},
   "outputs": [
    {
     "data": {
      "text/plain": [
       "Index(['as_of_year', 'respondent_id', 'agency_code', 'loan_type',\n",
       "       'property_type', 'loan_purpose', 'owner_occupancy', 'loan_amount_000s',\n",
       "       'preapproval', 'action_taken', 'msamd', 'state_code', 'county_code',\n",
       "       'census_tract_number', 'applicant_ethnicity', 'co_applicant_ethnicity',\n",
       "       'applicant_race_1', 'applicant_race_2', 'applicant_race_3',\n",
       "       'applicant_race_4', 'applicant_race_5', 'co_applicant_race_1',\n",
       "       'co_applicant_race_2', 'co_applicant_race_3', 'co_applicant_race_4',\n",
       "       'co_applicant_race_5', 'applicant_sex', 'co_applicant_sex',\n",
       "       'applicant_income_000s', 'purchaser_type', 'denial_reason_1',\n",
       "       'denial_reason_2', 'denial_reason_3', 'rate_spread', 'hoepa_status',\n",
       "       'lien_status', 'edit_status', 'sequence_number', 'population',\n",
       "       'minority_population', 'hud_median_family_income',\n",
       "       'tract_to_msamd_income', 'number_of_owner_occupied_units',\n",
       "       'number_of_1_to_4_family_units', 'application_date_indicator'],\n",
       "      dtype='object')"
      ]
     },
     "execution_count": 3,
     "metadata": {},
     "output_type": "execute_result"
    }
   ],
   "source": [
    "all_data.columns"
   ]
  },
  {
   "cell_type": "code",
   "execution_count": 4,
   "metadata": {},
   "outputs": [],
   "source": [
    "def map_loan_approval(action):\n",
    "    if action == 1:\n",
    "        return 1\n",
    "    elif action in [2, 4, 5]:\n",
    "        return 2\n",
    "    elif action == 3:\n",
    "        return 0\n",
    "    else:\n",
    "        return None  # All values that are dealing w/ preapproval and other inconclusive outcomes go here\n",
    "\n",
    "filtered_data = all_data\n",
    "filtered_data['loan_approval'] = filtered_data['action_taken'].apply(map_loan_approval)"
   ]
  },
  {
   "cell_type": "code",
   "execution_count": 5,
   "metadata": {},
   "outputs": [],
   "source": [
    "# Prune data\n",
    "\n",
    "# Prune all property types except for 'One-to-four family dwelling'\n",
    "filtered_data = filtered_data[filtered_data['property_type'] == 1]\n",
    "\n",
    "# Only include loans that are either approved or denied\n",
    "filtered_data = filtered_data[(filtered_data['loan_approval'] == 0) | (filtered_data['loan_approval'] == 1)]\n",
    "\n",
    "# Only inlude home purchases (exclude refi)\n",
    "filtered_data = filtered_data[filtered_data['loan_purpose'] == 1]"
   ]
  },
  {
   "cell_type": "code",
   "execution_count": 6,
   "metadata": {},
   "outputs": [
    {
     "name": "stdout",
     "output_type": "stream",
     "text": [
      "(516205, 46) (70395, 46)\n"
     ]
    }
   ],
   "source": [
    "print(all_data.shape, filtered_data.shape)"
   ]
  },
  {
   "cell_type": "code",
   "execution_count": 16,
   "metadata": {},
   "outputs": [],
   "source": [
    "# Column Filtering\n",
    "\n",
    "X_fair = filtered_data[['as_of_year', 'loan_type',\n",
    "       'owner_occupancy', 'loan_amount_000s',\n",
    "       'preapproval', 'applicant_income_000s', 'rate_spread', 'hud_median_family_income',\n",
    "       'tract_to_msamd_income', 'number_of_owner_occupied_units',\n",
    "       'number_of_1_to_4_family_units']].fillna(0)\n",
    "\n",
    "y = filtered_data['loan_approval']"
   ]
  },
  {
   "cell_type": "code",
   "execution_count": 18,
   "metadata": {},
   "outputs": [
    {
     "name": "stdout",
     "output_type": "stream",
     "text": [
      "as_of_year                        False\n",
      "loan_type                         False\n",
      "owner_occupancy                   False\n",
      "loan_amount_000s                  False\n",
      "preapproval                       False\n",
      "applicant_income_000s             False\n",
      "rate_spread                       False\n",
      "hud_median_family_income          False\n",
      "tract_to_msamd_income             False\n",
      "number_of_owner_occupied_units    False\n",
      "number_of_1_to_4_family_units     False\n",
      "dtype: bool\n"
     ]
    }
   ],
   "source": [
    "print(X_fair.isnull().any())"
   ]
  },
  {
   "cell_type": "code",
   "execution_count": 20,
   "metadata": {},
   "outputs": [
    {
     "name": "stdout",
     "output_type": "stream",
     "text": [
      "              precision    recall  f1-score   support\n",
      "\n",
      "         0.0       0.18      0.61      0.27      2668\n",
      "         1.0       0.91      0.58      0.71     18451\n",
      "\n",
      "    accuracy                           0.59     21119\n",
      "   macro avg       0.54      0.60      0.49     21119\n",
      "weighted avg       0.82      0.59      0.66     21119\n",
      "\n"
     ]
    },
    {
     "name": "stderr",
     "output_type": "stream",
     "text": [
      "/Library/Frameworks/Python.framework/Versions/3.10/lib/python3.10/site-packages/sklearn/linear_model/_logistic.py:469: ConvergenceWarning: lbfgs failed to converge (status=1):\n",
      "STOP: TOTAL NO. of ITERATIONS REACHED LIMIT.\n",
      "\n",
      "Increase the number of iterations (max_iter) or scale the data as shown in:\n",
      "    https://scikit-learn.org/stable/modules/preprocessing.html\n",
      "Please also refer to the documentation for alternative solver options:\n",
      "    https://scikit-learn.org/stable/modules/linear_model.html#logistic-regression\n",
      "  n_iter_i = _check_optimize_result(\n"
     ]
    }
   ],
   "source": [
    "X_train, X_test, y_train, y_test = train_test_split(X_fair, y, test_size=0.3, random_state=42, stratify=y)\n",
    "model = LogisticRegression(max_iter=1000, class_weight='balanced')\n",
    "\n",
    "model.fit(X_train, y_train)\n",
    "y_pred = model.predict(X_test)\n",
    "\n",
    "print(classification_report(y_test, y_pred))"
   ]
  }
 ],
 "metadata": {
  "kernelspec": {
   "display_name": "Python 3",
   "language": "python",
   "name": "python3"
  },
  "language_info": {
   "codemirror_mode": {
    "name": "ipython",
    "version": 3
   },
   "file_extension": ".py",
   "mimetype": "text/x-python",
   "name": "python",
   "nbconvert_exporter": "python",
   "pygments_lexer": "ipython3",
   "version": "3.10.4"
  }
 },
 "nbformat": 4,
 "nbformat_minor": 2
}
