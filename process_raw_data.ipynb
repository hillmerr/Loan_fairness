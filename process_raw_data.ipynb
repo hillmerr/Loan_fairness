{
 "cells": [
  {
   "cell_type": "code",
   "execution_count": 89,
   "metadata": {},
   "outputs": [],
   "source": [
    "# Imports\n",
    "\n",
    "import pandas as pd\n",
    "import numpy as np \n",
    "import glob"
   ]
  },
  {
   "cell_type": "code",
   "execution_count": null,
   "metadata": {},
   "outputs": [
    {
     "name": "stderr",
     "output_type": "stream",
     "text": [
      "/var/folders/4l/122hzjgj6dj2ghrnj8z81_mm0000gn/T/ipykernel_21451/45161589.py:9: DtypeWarning: Columns (34,36,38,44,46,48) have mixed types. Specify dtype option on import or set low_memory=False.\n",
      "  labeled_frames[processed_fname] = pd.read_csv(fname)\n",
      "/var/folders/4l/122hzjgj6dj2ghrnj8z81_mm0000gn/T/ipykernel_21451/45161589.py:9: DtypeWarning: Columns (34,36,38,44,46,48) have mixed types. Specify dtype option on import or set low_memory=False.\n",
      "  labeled_frames[processed_fname] = pd.read_csv(fname)\n",
      "/var/folders/4l/122hzjgj6dj2ghrnj8z81_mm0000gn/T/ipykernel_21451/45161589.py:9: DtypeWarning: Columns (34,36,38,44,46,48) have mixed types. Specify dtype option on import or set low_memory=False.\n",
      "  labeled_frames[processed_fname] = pd.read_csv(fname)\n",
      "/var/folders/4l/122hzjgj6dj2ghrnj8z81_mm0000gn/T/ipykernel_21451/45161589.py:9: DtypeWarning: Columns (34,36,38,44,46,48) have mixed types. Specify dtype option on import or set low_memory=False.\n",
      "  labeled_frames[processed_fname] = pd.read_csv(fname)\n",
      "/var/folders/4l/122hzjgj6dj2ghrnj8z81_mm0000gn/T/ipykernel_21451/45161589.py:9: DtypeWarning: Columns (34,36,38,44,46,48) have mixed types. Specify dtype option on import or set low_memory=False.\n",
      "  labeled_frames[processed_fname] = pd.read_csv(fname)\n",
      "/var/folders/4l/122hzjgj6dj2ghrnj8z81_mm0000gn/T/ipykernel_21451/45161589.py:9: DtypeWarning: Columns (34,36,38,44,46,48) have mixed types. Specify dtype option on import or set low_memory=False.\n",
      "  labeled_frames[processed_fname] = pd.read_csv(fname)\n",
      "/var/folders/4l/122hzjgj6dj2ghrnj8z81_mm0000gn/T/ipykernel_21451/45161589.py:9: DtypeWarning: Columns (34,36,38,44,46,48) have mixed types. Specify dtype option on import or set low_memory=False.\n",
      "  labeled_frames[processed_fname] = pd.read_csv(fname)\n",
      "/var/folders/4l/122hzjgj6dj2ghrnj8z81_mm0000gn/T/ipykernel_21451/45161589.py:9: DtypeWarning: Columns (34,36,38,44,46,48) have mixed types. Specify dtype option on import or set low_memory=False.\n",
      "  labeled_frames[processed_fname] = pd.read_csv(fname)\n"
     ]
    },
    {
     "name": "stdout",
     "output_type": "stream",
     "text": [
      "Data successfully loaded into labeled_frames.\n"
     ]
    }
   ],
   "source": [
    "# Grab labeled data\n",
    "\n",
    "labeled_path = 'data/raw_data/labeled_data/*.csv'\n",
    "labeled_frames = {}\n",
    "\n",
    "# Process each file in chunks\n",
    "for fname in glob.glob(labeled_path):\n",
    "    processed_fname = fname[:-4] + '_processed' + '.csv'\n",
    "    labeled_frames[processed_fname] = pd.read_csv(fname)  \n",
    "\n",
    "print(\"Data successfully loaded into labeled_frames.\")"
   ]
  },
  {
   "cell_type": "code",
   "execution_count": 91,
   "metadata": {},
   "outputs": [
    {
     "name": "stdout",
     "output_type": "stream",
     "text": [
      "Data successfully loaded into coded_frames.\n"
     ]
    }
   ],
   "source": [
    "# Grab coded data\n",
    "\n",
    "coded_path = 'data/raw_data/coded_data/*.csv'\n",
    "coded_frames = {}\n",
    "\n",
    "# Process each file in chunks\n",
    "for fname in glob.glob(coded_path):\n",
    "    coded_fname = fname[:-4] + '_processed' + '.csv'\n",
    "    coded_frames[coded_fname] = pd.read_csv(fname)  \n",
    "\n",
    "print(\"Data successfully loaded into coded_frames.\")"
   ]
  },
  {
   "cell_type": "code",
   "execution_count": 98,
   "metadata": {},
   "outputs": [],
   "source": [
    "def map_loan_approval(action):\n",
    "    if action in [1,2]:\n",
    "        return 1\n",
    "    elif action in [4, 5]:\n",
    "        return 2\n",
    "    elif action == 3:\n",
    "        return 0\n",
    "    else:\n",
    "        return None"
   ]
  },
  {
   "cell_type": "code",
   "execution_count": 99,
   "metadata": {},
   "outputs": [],
   "source": [
    "# list of county codes for the following counties that reside in NYC\n",
    "# 'Queens County', 'Kings County', 'Bronx County', 'New York County', 'Richmond County'\n",
    "\n",
    "nyc_county_codes = [81.0, 47.0, 5.0, 61.0, 85.0]"
   ]
  },
  {
   "cell_type": "code",
   "execution_count": 100,
   "metadata": {},
   "outputs": [
    {
     "name": "stdout",
     "output_type": "stream",
     "text": [
      "File 2012:\n",
      " Original shape: (566980, 78)\n",
      "Shape after filtering counties: (151315, 78)\n",
      "Shape after county filtering & pruning: (53234, 79)\n"
     ]
    },
    {
     "name": "stderr",
     "output_type": "stream",
     "text": [
      "/var/folders/4l/122hzjgj6dj2ghrnj8z81_mm0000gn/T/ipykernel_21451/2954846589.py:15: SettingWithCopyWarning: \n",
      "A value is trying to be set on a copy of a slice from a DataFrame.\n",
      "Try using .loc[row_indexer,col_indexer] = value instead\n",
      "\n",
      "See the caveats in the documentation: https://pandas.pydata.org/pandas-docs/stable/user_guide/indexing.html#returning-a-view-versus-a-copy\n",
      "  labeled_frames[fname]['loan_approval'] = labeled_frames[fname]['action_taken'].apply(map_loan_approval)\n"
     ]
    },
    {
     "name": "stdout",
     "output_type": "stream",
     "text": [
      "File 2015:\n",
      " Original shape: (439654, 78)\n",
      "Shape after filtering counties: (119782, 78)\n",
      "Shape after county filtering & pruning: (59314, 79)\n"
     ]
    },
    {
     "name": "stderr",
     "output_type": "stream",
     "text": [
      "/var/folders/4l/122hzjgj6dj2ghrnj8z81_mm0000gn/T/ipykernel_21451/2954846589.py:15: SettingWithCopyWarning: \n",
      "A value is trying to be set on a copy of a slice from a DataFrame.\n",
      "Try using .loc[row_indexer,col_indexer] = value instead\n",
      "\n",
      "See the caveats in the documentation: https://pandas.pydata.org/pandas-docs/stable/user_guide/indexing.html#returning-a-view-versus-a-copy\n",
      "  labeled_frames[fname]['loan_approval'] = labeled_frames[fname]['action_taken'].apply(map_loan_approval)\n"
     ]
    },
    {
     "name": "stdout",
     "output_type": "stream",
     "text": [
      "File 2010:\n",
      " Original shape: (529869, 78)\n",
      "Shape after filtering counties: (139801, 78)\n",
      "Shape after county filtering & pruning: (57560, 79)\n"
     ]
    },
    {
     "name": "stderr",
     "output_type": "stream",
     "text": [
      "/var/folders/4l/122hzjgj6dj2ghrnj8z81_mm0000gn/T/ipykernel_21451/2954846589.py:15: SettingWithCopyWarning: \n",
      "A value is trying to be set on a copy of a slice from a DataFrame.\n",
      "Try using .loc[row_indexer,col_indexer] = value instead\n",
      "\n",
      "See the caveats in the documentation: https://pandas.pydata.org/pandas-docs/stable/user_guide/indexing.html#returning-a-view-versus-a-copy\n",
      "  labeled_frames[fname]['loan_approval'] = labeled_frames[fname]['action_taken'].apply(map_loan_approval)\n"
     ]
    },
    {
     "name": "stdout",
     "output_type": "stream",
     "text": [
      "File 2017:\n",
      " Original shape: (446902, 78)\n",
      "Shape after filtering counties: (114676, 78)\n",
      "Shape after county filtering & pruning: (60272, 79)\n",
      "File 2016:\n",
      " Original shape: (477313, 78)\n"
     ]
    },
    {
     "name": "stderr",
     "output_type": "stream",
     "text": [
      "/var/folders/4l/122hzjgj6dj2ghrnj8z81_mm0000gn/T/ipykernel_21451/2954846589.py:15: SettingWithCopyWarning: \n",
      "A value is trying to be set on a copy of a slice from a DataFrame.\n",
      "Try using .loc[row_indexer,col_indexer] = value instead\n",
      "\n",
      "See the caveats in the documentation: https://pandas.pydata.org/pandas-docs/stable/user_guide/indexing.html#returning-a-view-versus-a-copy\n",
      "  labeled_frames[fname]['loan_approval'] = labeled_frames[fname]['action_taken'].apply(map_loan_approval)\n"
     ]
    },
    {
     "name": "stdout",
     "output_type": "stream",
     "text": [
      "Shape after filtering counties: (126118, 78)\n",
      "Shape after county filtering & pruning: (59724, 79)\n"
     ]
    },
    {
     "name": "stderr",
     "output_type": "stream",
     "text": [
      "/var/folders/4l/122hzjgj6dj2ghrnj8z81_mm0000gn/T/ipykernel_21451/2954846589.py:15: SettingWithCopyWarning: \n",
      "A value is trying to be set on a copy of a slice from a DataFrame.\n",
      "Try using .loc[row_indexer,col_indexer] = value instead\n",
      "\n",
      "See the caveats in the documentation: https://pandas.pydata.org/pandas-docs/stable/user_guide/indexing.html#returning-a-view-versus-a-copy\n",
      "  labeled_frames[fname]['loan_approval'] = labeled_frames[fname]['action_taken'].apply(map_loan_approval)\n"
     ]
    },
    {
     "name": "stdout",
     "output_type": "stream",
     "text": [
      "File 2011:\n",
      " Original shape: (503733, 78)\n",
      "Shape after filtering counties: (137514, 78)\n",
      "Shape after county filtering & pruning: (53577, 79)\n"
     ]
    },
    {
     "name": "stderr",
     "output_type": "stream",
     "text": [
      "/var/folders/4l/122hzjgj6dj2ghrnj8z81_mm0000gn/T/ipykernel_21451/2954846589.py:15: SettingWithCopyWarning: \n",
      "A value is trying to be set on a copy of a slice from a DataFrame.\n",
      "Try using .loc[row_indexer,col_indexer] = value instead\n",
      "\n",
      "See the caveats in the documentation: https://pandas.pydata.org/pandas-docs/stable/user_guide/indexing.html#returning-a-view-versus-a-copy\n",
      "  labeled_frames[fname]['loan_approval'] = labeled_frames[fname]['action_taken'].apply(map_loan_approval)\n"
     ]
    },
    {
     "name": "stdout",
     "output_type": "stream",
     "text": [
      "File 2014:\n",
      " Original shape: (389279, 78)\n",
      "Shape after filtering counties: (103108, 78)\n",
      "Shape after county filtering & pruning: (55795, 79)\n",
      "File 2013:\n",
      " Original shape: (539217, 78)\n"
     ]
    },
    {
     "name": "stderr",
     "output_type": "stream",
     "text": [
      "/var/folders/4l/122hzjgj6dj2ghrnj8z81_mm0000gn/T/ipykernel_21451/2954846589.py:15: SettingWithCopyWarning: \n",
      "A value is trying to be set on a copy of a slice from a DataFrame.\n",
      "Try using .loc[row_indexer,col_indexer] = value instead\n",
      "\n",
      "See the caveats in the documentation: https://pandas.pydata.org/pandas-docs/stable/user_guide/indexing.html#returning-a-view-versus-a-copy\n",
      "  labeled_frames[fname]['loan_approval'] = labeled_frames[fname]['action_taken'].apply(map_loan_approval)\n"
     ]
    },
    {
     "name": "stdout",
     "output_type": "stream",
     "text": [
      "Shape after filtering counties: (150505, 78)\n",
      "Shape after county filtering & pruning: (63011, 79)\n",
      "Total size of coded data set for model building: 462487\n"
     ]
    },
    {
     "name": "stderr",
     "output_type": "stream",
     "text": [
      "/var/folders/4l/122hzjgj6dj2ghrnj8z81_mm0000gn/T/ipykernel_21451/2954846589.py:15: SettingWithCopyWarning: \n",
      "A value is trying to be set on a copy of a slice from a DataFrame.\n",
      "Try using .loc[row_indexer,col_indexer] = value instead\n",
      "\n",
      "See the caveats in the documentation: https://pandas.pydata.org/pandas-docs/stable/user_guide/indexing.html#returning-a-view-versus-a-copy\n",
      "  labeled_frames[fname]['loan_approval'] = labeled_frames[fname]['action_taken'].apply(map_loan_approval)\n"
     ]
    }
   ],
   "source": [
    "# Preprocessing labeled_data\n",
    "\n",
    "# We want to look at all data for the relevant counties across the\n",
    "# eight year time span (see above for the county codes).\n",
    "# Pruned data that is not for 'One-to-four family dwelling' and all\n",
    "# data that is not a home purchase.\n",
    "\n",
    "total_size = 0\n",
    "for fname, frame in labeled_frames.items():\n",
    "    print(f\"File {fname[32:36]}:\\n Original shape: {frame.shape}\")\n",
    "\n",
    "    labeled_frames[fname] = labeled_frames[fname][labeled_frames[fname]['county_code'].isin(nyc_county_codes)]\n",
    "    print(f\"Shape after filtering counties: {labeled_frames[fname].shape}\")\n",
    "\n",
    "    labeled_frames[fname]['loan_approval'] = labeled_frames[fname]['action_taken'].apply(map_loan_approval)\n",
    "    labeled_frames[fname] = labeled_frames[fname][labeled_frames[fname]['property_type'] == 1]\n",
    "    labeled_frames[fname] = labeled_frames[fname][labeled_frames[fname]['loan_purpose'] == 1]\n",
    "    print(f\"Shape after county filtering & pruning: {labeled_frames[fname].shape}\")\n",
    "    total_size += (labeled_frames[fname].shape)[0]\n",
    "\n",
    "print(f\"Total size of coded data set for model building: {total_size}\")"
   ]
  },
  {
   "cell_type": "code",
   "execution_count": null,
   "metadata": {},
   "outputs": [
    {
     "name": "stdout",
     "output_type": "stream",
     "text": [
      "File 2017:\n",
      " Original shape: (446902, 45)\n",
      "Shape after filtering counties: (114676, 45)\n",
      "Shape after county filtering & pruning: (43229, 46)\n",
      "File 2013:\n",
      " Original shape: (539217, 45)\n",
      "Shape after filtering counties: (150505, 45)\n"
     ]
    },
    {
     "name": "stderr",
     "output_type": "stream",
     "text": [
      "/var/folders/4l/122hzjgj6dj2ghrnj8z81_mm0000gn/T/ipykernel_21451/2897984925.py:10: SettingWithCopyWarning: \n",
      "A value is trying to be set on a copy of a slice from a DataFrame.\n",
      "Try using .loc[row_indexer,col_indexer] = value instead\n",
      "\n",
      "See the caveats in the documentation: https://pandas.pydata.org/pandas-docs/stable/user_guide/indexing.html#returning-a-view-versus-a-copy\n",
      "  coded_frames[fname]['loan_approval'] = coded_frames[fname]['action_taken'].apply(map_loan_approval)\n",
      "/var/folders/4l/122hzjgj6dj2ghrnj8z81_mm0000gn/T/ipykernel_21451/2897984925.py:10: SettingWithCopyWarning: \n",
      "A value is trying to be set on a copy of a slice from a DataFrame.\n",
      "Try using .loc[row_indexer,col_indexer] = value instead\n",
      "\n",
      "See the caveats in the documentation: https://pandas.pydata.org/pandas-docs/stable/user_guide/indexing.html#returning-a-view-versus-a-copy\n",
      "  coded_frames[fname]['loan_approval'] = coded_frames[fname]['action_taken'].apply(map_loan_approval)\n"
     ]
    },
    {
     "name": "stdout",
     "output_type": "stream",
     "text": [
      "Shape after county filtering & pruning: (43341, 46)\n",
      "File 2012:\n",
      " Original shape: (566980, 45)\n",
      "Shape after filtering counties: (151315, 45)\n",
      "Shape after county filtering & pruning: (38600, 46)\n"
     ]
    },
    {
     "name": "stderr",
     "output_type": "stream",
     "text": [
      "/var/folders/4l/122hzjgj6dj2ghrnj8z81_mm0000gn/T/ipykernel_21451/2897984925.py:10: SettingWithCopyWarning: \n",
      "A value is trying to be set on a copy of a slice from a DataFrame.\n",
      "Try using .loc[row_indexer,col_indexer] = value instead\n",
      "\n",
      "See the caveats in the documentation: https://pandas.pydata.org/pandas-docs/stable/user_guide/indexing.html#returning-a-view-versus-a-copy\n",
      "  coded_frames[fname]['loan_approval'] = coded_frames[fname]['action_taken'].apply(map_loan_approval)\n"
     ]
    },
    {
     "name": "stdout",
     "output_type": "stream",
     "text": [
      "File 2016:\n",
      " Original shape: (477313, 45)\n",
      "Shape after filtering counties: (126118, 45)\n",
      "Shape after county filtering & pruning: (41320, 46)\n",
      "File 2014:\n",
      " Original shape: (389279, 45)\n"
     ]
    },
    {
     "name": "stderr",
     "output_type": "stream",
     "text": [
      "/var/folders/4l/122hzjgj6dj2ghrnj8z81_mm0000gn/T/ipykernel_21451/2897984925.py:10: SettingWithCopyWarning: \n",
      "A value is trying to be set on a copy of a slice from a DataFrame.\n",
      "Try using .loc[row_indexer,col_indexer] = value instead\n",
      "\n",
      "See the caveats in the documentation: https://pandas.pydata.org/pandas-docs/stable/user_guide/indexing.html#returning-a-view-versus-a-copy\n",
      "  coded_frames[fname]['loan_approval'] = coded_frames[fname]['action_taken'].apply(map_loan_approval)\n",
      "/var/folders/4l/122hzjgj6dj2ghrnj8z81_mm0000gn/T/ipykernel_21451/2897984925.py:10: SettingWithCopyWarning: \n",
      "A value is trying to be set on a copy of a slice from a DataFrame.\n",
      "Try using .loc[row_indexer,col_indexer] = value instead\n",
      "\n",
      "See the caveats in the documentation: https://pandas.pydata.org/pandas-docs/stable/user_guide/indexing.html#returning-a-view-versus-a-copy\n",
      "  coded_frames[fname]['loan_approval'] = coded_frames[fname]['action_taken'].apply(map_loan_approval)\n"
     ]
    },
    {
     "name": "stdout",
     "output_type": "stream",
     "text": [
      "Shape after filtering counties: (103108, 45)\n",
      "Shape after county filtering & pruning: (39417, 46)\n",
      "File 2010:\n",
      " Original shape: (529869, 45)\n",
      "Shape after filtering counties: (139801, 45)\n"
     ]
    },
    {
     "name": "stderr",
     "output_type": "stream",
     "text": [
      "/var/folders/4l/122hzjgj6dj2ghrnj8z81_mm0000gn/T/ipykernel_21451/2897984925.py:10: SettingWithCopyWarning: \n",
      "A value is trying to be set on a copy of a slice from a DataFrame.\n",
      "Try using .loc[row_indexer,col_indexer] = value instead\n",
      "\n",
      "See the caveats in the documentation: https://pandas.pydata.org/pandas-docs/stable/user_guide/indexing.html#returning-a-view-versus-a-copy\n",
      "  coded_frames[fname]['loan_approval'] = coded_frames[fname]['action_taken'].apply(map_loan_approval)\n"
     ]
    },
    {
     "name": "stdout",
     "output_type": "stream",
     "text": [
      "Shape after county filtering & pruning: (41532, 46)\n",
      "File 2011:\n",
      " Original shape: (503733, 45)\n",
      "Shape after filtering counties: (137514, 45)\n",
      "Shape after county filtering & pruning: (37848, 46)\n"
     ]
    },
    {
     "name": "stderr",
     "output_type": "stream",
     "text": [
      "/var/folders/4l/122hzjgj6dj2ghrnj8z81_mm0000gn/T/ipykernel_21451/2897984925.py:10: SettingWithCopyWarning: \n",
      "A value is trying to be set on a copy of a slice from a DataFrame.\n",
      "Try using .loc[row_indexer,col_indexer] = value instead\n",
      "\n",
      "See the caveats in the documentation: https://pandas.pydata.org/pandas-docs/stable/user_guide/indexing.html#returning-a-view-versus-a-copy\n",
      "  coded_frames[fname]['loan_approval'] = coded_frames[fname]['action_taken'].apply(map_loan_approval)\n"
     ]
    },
    {
     "name": "stdout",
     "output_type": "stream",
     "text": [
      "File 2015:\n",
      " Original shape: (439654, 45)\n",
      "Shape after filtering counties: (119782, 45)\n",
      "Shape after county filtering & pruning: (41043, 46)\n",
      "Total size of coded data set for model building: 326330\n"
     ]
    },
    {
     "name": "stderr",
     "output_type": "stream",
     "text": [
      "/var/folders/4l/122hzjgj6dj2ghrnj8z81_mm0000gn/T/ipykernel_21451/2897984925.py:10: SettingWithCopyWarning: \n",
      "A value is trying to be set on a copy of a slice from a DataFrame.\n",
      "Try using .loc[row_indexer,col_indexer] = value instead\n",
      "\n",
      "See the caveats in the documentation: https://pandas.pydata.org/pandas-docs/stable/user_guide/indexing.html#returning-a-view-versus-a-copy\n",
      "  coded_frames[fname]['loan_approval'] = coded_frames[fname]['action_taken'].apply(map_loan_approval)\n"
     ]
    }
   ],
   "source": [
    "# Preprocessing coded_data\n",
    "\n",
    "# Same filtering for the labeled_data, however, we are using this \n",
    "# for model building. Because of this, we prune more data, specifically,\n",
    "# we drop rows where the 'important_indicators' are null type. On the same\n",
    "# note, we replace any null income with the average for the geographic area\n",
    "# where they apply for a loan. Finally, we only include loans that are approved and \n",
    "# loans that are outright denied.\n",
    "\n",
    "important_indicators = ['msamd', 'population', 'minority_population', 'hud_median_family_income', 'tract_to_msamd_income', 'number_of_owner_occupied_units', 'number_of_1_to_4_family_units']\n",
    "\n",
    "total_size = 0\n",
    "for fname, frame in coded_frames.items():\n",
    "    print(f\"File {fname[30:34]}:\\n Original shape: {frame.shape}\")\n",
    "\n",
    "    coded_frames[fname] = coded_frames[fname][coded_frames[fname]['county_code'].isin(nyc_county_codes)]\n",
    "    print(f\"Shape after filtering counties: {coded_frames[fname].shape}\")\n",
    "\n",
    "    coded_frames[fname]['loan_approval'] = coded_frames[fname]['action_taken'].apply(map_loan_approval)\n",
    "    coded_frames[fname] = coded_frames[fname][(coded_frames[fname]['loan_approval'] == 0) | (coded_frames[fname]['loan_approval'] == 1)]\n",
    "    coded_frames[fname] = coded_frames[fname][coded_frames[fname]['property_type'] == 1]\n",
    "    coded_frames[fname] = coded_frames[fname][coded_frames[fname]['loan_purpose'] == 1]\n",
    "    coded_frames[fname].dropna(subset=important_indicators, inplace=True)\n",
    "    coded_frames[fname]['applicant_income_000s'] = np.where(coded_frames[fname]['applicant_income_000s'].isnull(), coded_frames[fname]['msamd'], coded_frames[fname]['applicant_income_000s'])\n",
    "    print(f\"Shape after county filtering & pruning: {coded_frames[fname].shape}\")\n",
    "    total_size += (coded_frames[fname].shape)[0]\n",
    "\n",
    "print(f\"Total size of coded data set for model building: {total_size}\")"
   ]
  },
  {
   "cell_type": "code",
   "execution_count": 103,
   "metadata": {},
   "outputs": [],
   "source": [
    "# Write to processed_data folder\n",
    "\n",
    "for fname, frame in coded_frames.items():\n",
    "    path = \"data/processed_data/coded_data/h\" + fname[26:34] + \"_codes_processed.csv\"\n",
    "    frame.to_csv(path)\n",
    "\n",
    "for fname, frame in labeled_frames.items():\n",
    "    path = \"data/processed_data/labeled_data/h\" + fname[28:36] + \"_labels_processed.csv\"\n",
    "    frame.to_csv(path)"
   ]
  }
 ],
 "metadata": {
  "kernelspec": {
   "display_name": "Python 3",
   "language": "python",
   "name": "python3"
  },
  "language_info": {
   "codemirror_mode": {
    "name": "ipython",
    "version": 3
   },
   "file_extension": ".py",
   "mimetype": "text/x-python",
   "name": "python",
   "nbconvert_exporter": "python",
   "pygments_lexer": "ipython3",
   "version": "3.10.4"
  }
 },
 "nbformat": 4,
 "nbformat_minor": 2
}
